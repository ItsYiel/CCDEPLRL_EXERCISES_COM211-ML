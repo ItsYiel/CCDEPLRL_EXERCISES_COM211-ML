{
  "nbformat": 4,
  "nbformat_minor": 0,
  "metadata": {
    "colab": {
      "provenance": [],
      "authorship_tag": "ABX9TyNlOemYHNNTBH5TbMCRItM7",
      "include_colab_link": true
    },
    "kernelspec": {
      "name": "python3",
      "display_name": "Python 3"
    },
    "language_info": {
      "name": "python"
    }
  },
  "cells": [
    {
      "cell_type": "markdown",
      "metadata": {
        "id": "view-in-github",
        "colab_type": "text"
      },
      "source": [
        "<a href=\"https://colab.research.google.com/github/marielollage/CCDEPLRL_EXERCISES_COM211-ML/blob/main/Q_and_a_Excercise6.ipynb\" target=\"_parent\"><img src=\"https://colab.research.google.com/assets/colab-badge.svg\" alt=\"Open In Colab\"/></a>"
      ]
    },
    {
      "cell_type": "code",
      "execution_count": null,
      "metadata": {
        "id": "U6n5cE04sqqq"
      },
      "outputs": [],
      "source": [
        "from transformers import pipeline, AutoModelForQuestionAnswering, AutoTokenizer\n",
        "\n",
        "# Load the fine-tuned model and tokenizer from the local directory\n",
        "model_path = \"./fine-tuned-qa-model\"\n",
        "qa_pipeline = pipeline('question-answering', model=model_path, tokenizer=model_path)\n",
        "\n",
        "# Define multiple QA inputs\n",
        "qa_inputs = [\n",
        "    {\n",
        "        'question': 'Who was the first president of the United States?',\n",
        "        'context': 'George Washington was an American political leader, military general, statesman, and Founding Father who served as the first president of the United States from 1789 to 1797.'\n",
        "    },\n",
        "    {\n",
        "        'question': 'What is the chemical symbol for water?',\n",
        "        'context': 'Water is a chemical compound consisting of two hydrogen atoms and one oxygen atom. The chemical formula for water is H2O.'\n",
        "    },\n",
        "    {\n",
        "        'question': 'Who wrote \"Pride and Prejudice\"?',\n",
        "        'context': 'Pride and Prejudice is a romantic novel of manners written by Jane Austen in 1813.'\n",
        "    },\n",
        "    {\n",
        "        'question': 'What is machine learning?',\n",
        "        'context': 'Machine learning is a branch of artificial intelligence that focuses on building systems that learn from and make decisions based on data. It involves algorithms and statistical models to perform specific tasks without using explicit instructions, relying on patterns and inference instead.'\n",
        "    },\n",
        "    {\n",
        "        'question': 'What is the largest desert in the world?',\n",
        "        'context': 'The Sahara is the largest hot desert in the world, located in North Africa. However, the largest desert on earth is Antarctica, which is a cold desert.'\n",
        "    }\n",
        "]\n",
        "\n",
        "# Run the QA pipeline for each input and print the results\n",
        "for idx, QA_input in enumerate(qa_inputs):\n",
        "    print(f\"QA Input {idx + 1}:\")\n",
        "    print(f\"Question: {QA_input['question']}\")\n",
        "    print(f\"Context: {QA_input['context']}\")\n",
        "    result = qa_pipeline(QA_input)\n",
        "    print(f\"Answer: {result['answer']}\\n\")\n"
      ]
    }
  ]
}