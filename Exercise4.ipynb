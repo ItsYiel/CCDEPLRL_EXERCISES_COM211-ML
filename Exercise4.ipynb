{
  "cells": [
    {
      "cell_type": "markdown",
      "metadata": {
        "id": "view-in-github",
        "colab_type": "text"
      },
      "source": [
        "<a href=\"https://colab.research.google.com/github/marielollage/CCDEPLRL_EXERCISES_COM211-ML/blob/main/Exercise4.ipynb\" target=\"_parent\"><img src=\"https://colab.research.google.com/assets/colab-badge.svg\" alt=\"Open In Colab\"/></a>"
      ]
    },
    {
      "cell_type": "markdown",
      "metadata": {
        "id": "hY-fjvwfy2P9"
      },
      "source": [
        "# Exercise 4"
      ]
    },
    {
      "cell_type": "code",
      "execution_count": 1,
      "metadata": {
        "id": "drsUfVVXyxJl"
      },
      "outputs": [],
      "source": [
        "import tensorflow as tf\n",
        "import numpy as np\n",
        "import pandas as pd\n",
        "import io\n",
        "\n",
        "from tensorflow.keras.preprocessing.text import Tokenizer\n",
        "from tensorflow.keras.preprocessing.sequence import pad_sequences"
      ]
    },
    {
      "cell_type": "code",
      "execution_count": 2,
      "metadata": {
        "id": "y4e6GG2CzJUq"
      },
      "outputs": [],
      "source": [
        "dataset = pd.read_json('reviews.json')\n"
      ]
    },
    {
      "cell_type": "code",
      "source": [
        "dataset.head()"
      ],
      "metadata": {
        "colab": {
          "base_uri": "https://localhost:8080/",
          "height": 206
        },
        "id": "lW6mgNsBLNcQ",
        "outputId": "9b344690-53a5-46a7-8b83-0a63ad0e7edc"
      },
      "execution_count": 3,
      "outputs": [
        {
          "output_type": "execute_result",
          "data": {
            "text/plain": [
              "                                              review  rating\n",
              "0                    sir okay armygreen shorts nice        5\n",
              "1  di pareha yong mga size nila may sobrang liit ...       5\n",
              "2  super worth it ang ganda Sombra grabi order na...       5\n",
              "3                                   ganda po salamat       5\n",
              "4                maayos pagkadeliver maganda den sya       5"
            ],
            "text/html": [
              "\n",
              "  <div id=\"df-e6e2b5e1-a142-43d2-b718-3df55a854a10\" class=\"colab-df-container\">\n",
              "    <div>\n",
              "<style scoped>\n",
              "    .dataframe tbody tr th:only-of-type {\n",
              "        vertical-align: middle;\n",
              "    }\n",
              "\n",
              "    .dataframe tbody tr th {\n",
              "        vertical-align: top;\n",
              "    }\n",
              "\n",
              "    .dataframe thead th {\n",
              "        text-align: right;\n",
              "    }\n",
              "</style>\n",
              "<table border=\"1\" class=\"dataframe\">\n",
              "  <thead>\n",
              "    <tr style=\"text-align: right;\">\n",
              "      <th></th>\n",
              "      <th>review</th>\n",
              "      <th>rating</th>\n",
              "    </tr>\n",
              "  </thead>\n",
              "  <tbody>\n",
              "    <tr>\n",
              "      <th>0</th>\n",
              "      <td>sir okay armygreen shorts nice</td>\n",
              "      <td>5</td>\n",
              "    </tr>\n",
              "    <tr>\n",
              "      <th>1</th>\n",
              "      <td>di pareha yong mga size nila may sobrang liit ...</td>\n",
              "      <td>5</td>\n",
              "    </tr>\n",
              "    <tr>\n",
              "      <th>2</th>\n",
              "      <td>super worth it ang ganda Sombra grabi order na...</td>\n",
              "      <td>5</td>\n",
              "    </tr>\n",
              "    <tr>\n",
              "      <th>3</th>\n",
              "      <td>ganda po salamat</td>\n",
              "      <td>5</td>\n",
              "    </tr>\n",
              "    <tr>\n",
              "      <th>4</th>\n",
              "      <td>maayos pagkadeliver maganda den sya</td>\n",
              "      <td>5</td>\n",
              "    </tr>\n",
              "  </tbody>\n",
              "</table>\n",
              "</div>\n",
              "    <div class=\"colab-df-buttons\">\n",
              "\n",
              "  <div class=\"colab-df-container\">\n",
              "    <button class=\"colab-df-convert\" onclick=\"convertToInteractive('df-e6e2b5e1-a142-43d2-b718-3df55a854a10')\"\n",
              "            title=\"Convert this dataframe to an interactive table.\"\n",
              "            style=\"display:none;\">\n",
              "\n",
              "  <svg xmlns=\"http://www.w3.org/2000/svg\" height=\"24px\" viewBox=\"0 -960 960 960\">\n",
              "    <path d=\"M120-120v-720h720v720H120Zm60-500h600v-160H180v160Zm220 220h160v-160H400v160Zm0 220h160v-160H400v160ZM180-400h160v-160H180v160Zm440 0h160v-160H620v160ZM180-180h160v-160H180v160Zm440 0h160v-160H620v160Z\"/>\n",
              "  </svg>\n",
              "    </button>\n",
              "\n",
              "  <style>\n",
              "    .colab-df-container {\n",
              "      display:flex;\n",
              "      gap: 12px;\n",
              "    }\n",
              "\n",
              "    .colab-df-convert {\n",
              "      background-color: #E8F0FE;\n",
              "      border: none;\n",
              "      border-radius: 50%;\n",
              "      cursor: pointer;\n",
              "      display: none;\n",
              "      fill: #1967D2;\n",
              "      height: 32px;\n",
              "      padding: 0 0 0 0;\n",
              "      width: 32px;\n",
              "    }\n",
              "\n",
              "    .colab-df-convert:hover {\n",
              "      background-color: #E2EBFA;\n",
              "      box-shadow: 0px 1px 2px rgba(60, 64, 67, 0.3), 0px 1px 3px 1px rgba(60, 64, 67, 0.15);\n",
              "      fill: #174EA6;\n",
              "    }\n",
              "\n",
              "    .colab-df-buttons div {\n",
              "      margin-bottom: 4px;\n",
              "    }\n",
              "\n",
              "    [theme=dark] .colab-df-convert {\n",
              "      background-color: #3B4455;\n",
              "      fill: #D2E3FC;\n",
              "    }\n",
              "\n",
              "    [theme=dark] .colab-df-convert:hover {\n",
              "      background-color: #434B5C;\n",
              "      box-shadow: 0px 1px 3px 1px rgba(0, 0, 0, 0.15);\n",
              "      filter: drop-shadow(0px 1px 2px rgba(0, 0, 0, 0.3));\n",
              "      fill: #FFFFFF;\n",
              "    }\n",
              "  </style>\n",
              "\n",
              "    <script>\n",
              "      const buttonEl =\n",
              "        document.querySelector('#df-e6e2b5e1-a142-43d2-b718-3df55a854a10 button.colab-df-convert');\n",
              "      buttonEl.style.display =\n",
              "        google.colab.kernel.accessAllowed ? 'block' : 'none';\n",
              "\n",
              "      async function convertToInteractive(key) {\n",
              "        const element = document.querySelector('#df-e6e2b5e1-a142-43d2-b718-3df55a854a10');\n",
              "        const dataTable =\n",
              "          await google.colab.kernel.invokeFunction('convertToInteractive',\n",
              "                                                    [key], {});\n",
              "        if (!dataTable) return;\n",
              "\n",
              "        const docLinkHtml = 'Like what you see? Visit the ' +\n",
              "          '<a target=\"_blank\" href=https://colab.research.google.com/notebooks/data_table.ipynb>data table notebook</a>'\n",
              "          + ' to learn more about interactive tables.';\n",
              "        element.innerHTML = '';\n",
              "        dataTable['output_type'] = 'display_data';\n",
              "        await google.colab.output.renderOutput(dataTable, element);\n",
              "        const docLink = document.createElement('div');\n",
              "        docLink.innerHTML = docLinkHtml;\n",
              "        element.appendChild(docLink);\n",
              "      }\n",
              "    </script>\n",
              "  </div>\n",
              "\n",
              "\n",
              "<div id=\"df-7eda8f77-19ac-4043-8577-69e264a811a3\">\n",
              "  <button class=\"colab-df-quickchart\" onclick=\"quickchart('df-7eda8f77-19ac-4043-8577-69e264a811a3')\"\n",
              "            title=\"Suggest charts\"\n",
              "            style=\"display:none;\">\n",
              "\n",
              "<svg xmlns=\"http://www.w3.org/2000/svg\" height=\"24px\"viewBox=\"0 0 24 24\"\n",
              "     width=\"24px\">\n",
              "    <g>\n",
              "        <path d=\"M19 3H5c-1.1 0-2 .9-2 2v14c0 1.1.9 2 2 2h14c1.1 0 2-.9 2-2V5c0-1.1-.9-2-2-2zM9 17H7v-7h2v7zm4 0h-2V7h2v10zm4 0h-2v-4h2v4z\"/>\n",
              "    </g>\n",
              "</svg>\n",
              "  </button>\n",
              "\n",
              "<style>\n",
              "  .colab-df-quickchart {\n",
              "      --bg-color: #E8F0FE;\n",
              "      --fill-color: #1967D2;\n",
              "      --hover-bg-color: #E2EBFA;\n",
              "      --hover-fill-color: #174EA6;\n",
              "      --disabled-fill-color: #AAA;\n",
              "      --disabled-bg-color: #DDD;\n",
              "  }\n",
              "\n",
              "  [theme=dark] .colab-df-quickchart {\n",
              "      --bg-color: #3B4455;\n",
              "      --fill-color: #D2E3FC;\n",
              "      --hover-bg-color: #434B5C;\n",
              "      --hover-fill-color: #FFFFFF;\n",
              "      --disabled-bg-color: #3B4455;\n",
              "      --disabled-fill-color: #666;\n",
              "  }\n",
              "\n",
              "  .colab-df-quickchart {\n",
              "    background-color: var(--bg-color);\n",
              "    border: none;\n",
              "    border-radius: 50%;\n",
              "    cursor: pointer;\n",
              "    display: none;\n",
              "    fill: var(--fill-color);\n",
              "    height: 32px;\n",
              "    padding: 0;\n",
              "    width: 32px;\n",
              "  }\n",
              "\n",
              "  .colab-df-quickchart:hover {\n",
              "    background-color: var(--hover-bg-color);\n",
              "    box-shadow: 0 1px 2px rgba(60, 64, 67, 0.3), 0 1px 3px 1px rgba(60, 64, 67, 0.15);\n",
              "    fill: var(--button-hover-fill-color);\n",
              "  }\n",
              "\n",
              "  .colab-df-quickchart-complete:disabled,\n",
              "  .colab-df-quickchart-complete:disabled:hover {\n",
              "    background-color: var(--disabled-bg-color);\n",
              "    fill: var(--disabled-fill-color);\n",
              "    box-shadow: none;\n",
              "  }\n",
              "\n",
              "  .colab-df-spinner {\n",
              "    border: 2px solid var(--fill-color);\n",
              "    border-color: transparent;\n",
              "    border-bottom-color: var(--fill-color);\n",
              "    animation:\n",
              "      spin 1s steps(1) infinite;\n",
              "  }\n",
              "\n",
              "  @keyframes spin {\n",
              "    0% {\n",
              "      border-color: transparent;\n",
              "      border-bottom-color: var(--fill-color);\n",
              "      border-left-color: var(--fill-color);\n",
              "    }\n",
              "    20% {\n",
              "      border-color: transparent;\n",
              "      border-left-color: var(--fill-color);\n",
              "      border-top-color: var(--fill-color);\n",
              "    }\n",
              "    30% {\n",
              "      border-color: transparent;\n",
              "      border-left-color: var(--fill-color);\n",
              "      border-top-color: var(--fill-color);\n",
              "      border-right-color: var(--fill-color);\n",
              "    }\n",
              "    40% {\n",
              "      border-color: transparent;\n",
              "      border-right-color: var(--fill-color);\n",
              "      border-top-color: var(--fill-color);\n",
              "    }\n",
              "    60% {\n",
              "      border-color: transparent;\n",
              "      border-right-color: var(--fill-color);\n",
              "    }\n",
              "    80% {\n",
              "      border-color: transparent;\n",
              "      border-right-color: var(--fill-color);\n",
              "      border-bottom-color: var(--fill-color);\n",
              "    }\n",
              "    90% {\n",
              "      border-color: transparent;\n",
              "      border-bottom-color: var(--fill-color);\n",
              "    }\n",
              "  }\n",
              "</style>\n",
              "\n",
              "  <script>\n",
              "    async function quickchart(key) {\n",
              "      const quickchartButtonEl =\n",
              "        document.querySelector('#' + key + ' button');\n",
              "      quickchartButtonEl.disabled = true;  // To prevent multiple clicks.\n",
              "      quickchartButtonEl.classList.add('colab-df-spinner');\n",
              "      try {\n",
              "        const charts = await google.colab.kernel.invokeFunction(\n",
              "            'suggestCharts', [key], {});\n",
              "      } catch (error) {\n",
              "        console.error('Error during call to suggestCharts:', error);\n",
              "      }\n",
              "      quickchartButtonEl.classList.remove('colab-df-spinner');\n",
              "      quickchartButtonEl.classList.add('colab-df-quickchart-complete');\n",
              "    }\n",
              "    (() => {\n",
              "      let quickchartButtonEl =\n",
              "        document.querySelector('#df-7eda8f77-19ac-4043-8577-69e264a811a3 button');\n",
              "      quickchartButtonEl.style.display =\n",
              "        google.colab.kernel.accessAllowed ? 'block' : 'none';\n",
              "    })();\n",
              "  </script>\n",
              "</div>\n",
              "    </div>\n",
              "  </div>\n"
            ],
            "application/vnd.google.colaboratory.intrinsic+json": {
              "type": "dataframe",
              "variable_name": "dataset",
              "summary": "{\n  \"name\": \"dataset\",\n  \"rows\": 1001,\n  \"fields\": [\n    {\n      \"column\": \"review\",\n      \"properties\": {\n        \"dtype\": \"string\",\n        \"num_unique_values\": 914,\n        \"samples\": [\n          \"mabilis lang dumating. naka sealed pa ng magagos maliban sa mismong sealed ng nail polish. ang gabda ng kulay at nabili ko lang for only 5 pesos!\",\n          \"i ordered three different shirts, only of them arrived here correctly. one is in wrong size and the other is not the color i ordered and wrong size too.!!!!\",\n          \"The speaker is working and the quality of the sound is very nice. I don't know why but I didn't get the design that I want. Instead of Army Green, I got Grey but its still good. The packaging is also nice. You should buy this product. It is worth it. \"\n        ],\n        \"semantic_type\": \"\",\n        \"description\": \"\"\n      }\n    },\n    {\n      \"column\": \"rating\",\n      \"properties\": {\n        \"dtype\": \"number\",\n        \"std\": 1,\n        \"min\": 1,\n        \"max\": 5,\n        \"num_unique_values\": 5,\n        \"samples\": [\n          4,\n          3,\n          2\n        ],\n        \"semantic_type\": \"\",\n        \"description\": \"\"\n      }\n    }\n  ]\n}"
            }
          },
          "metadata": {},
          "execution_count": 3
        }
      ]
    },
    {
      "cell_type": "code",
      "source": [
        "# Convert ratings to binary labels\n",
        "def convert_to_binary_labels(rating):\n",
        "    if rating >= 4:\n",
        "        return 1  # Positive\n",
        "    else:\n",
        "        return 0  # Negative\n",
        "\n",
        "dataset['sentiment'] = dataset['rating'].apply(convert_to_binary_labels)\n",
        "\n",
        "# Separate out the sentences and labels\n",
        "sentences = dataset['review'].tolist()\n",
        "labels = dataset['sentiment'].tolist()\n",
        "\n",
        "# Split the data into training and test sets\n",
        "training_size = int(len(sentences) * 0.8)\n",
        "training_sentences = sentences[:training_size]\n",
        "testing_sentences = sentences[training_size:]\n",
        "training_labels = labels[:training_size]\n",
        "testing_labels = labels[training_size:]\n",
        "\n",
        "# Convert labels to numpy arrays\n",
        "training_labels_final = np.array(training_labels)\n",
        "testing_labels_final = np.array(testing_labels)"
      ],
      "metadata": {
        "id": "os9X2iAQsGZ8"
      },
      "execution_count": 4,
      "outputs": []
    },
    {
      "cell_type": "markdown",
      "source": [
        "## 1. Tokenize the data"
      ],
      "metadata": {
        "id": "3En4gTR8MRXG"
      }
    },
    {
      "cell_type": "code",
      "source": [
        "# Tokenize the data\n",
        "tokenizer = Tokenizer(num_words=10000, oov_token='<OOV>')\n",
        "tokenizer.fit_on_texts(training_sentences)"
      ],
      "metadata": {
        "id": "Q5WD0HudMUFr"
      },
      "execution_count": 5,
      "outputs": []
    },
    {
      "cell_type": "markdown",
      "source": [
        "## 2. Sequence the data"
      ],
      "metadata": {
        "id": "I5hVE73gMWzB"
      }
    },
    {
      "cell_type": "code",
      "source": [
        "# Sequence the data\n",
        "training_sequences = tokenizer.texts_to_sequences(training_sentences)\n",
        "testing_sequences = tokenizer.texts_to_sequences(testing_sentences)"
      ],
      "metadata": {
        "id": "Un5zy3cLMnLW"
      },
      "execution_count": 6,
      "outputs": []
    },
    {
      "cell_type": "markdown",
      "source": [
        "## 3. Pad the data"
      ],
      "metadata": {
        "id": "BLyaDf-_MojG"
      }
    },
    {
      "cell_type": "code",
      "source": [
        "# Pad the data\n",
        "max_length = 100\n",
        "padding_type = 'post'\n",
        "training_padded = pad_sequences(training_sequences, padding=padding_type, maxlen=max_length)\n",
        "testing_padded = pad_sequences(testing_sequences, padding=padding_type, maxlen=max_length)"
      ],
      "metadata": {
        "id": "bKP6XJLwMxNL"
      },
      "execution_count": 7,
      "outputs": []
    },
    {
      "cell_type": "markdown",
      "source": [
        "## 4. Train a sentiment model"
      ],
      "metadata": {
        "id": "RTU0X3wtMyIE"
      }
    },
    {
      "cell_type": "code",
      "source": [
        "# Check the balance of the dataset\n",
        "print(dataset['sentiment'].value_counts())\n",
        "\n",
        "# If the dataset is imbalanced, use class weights\n",
        "from sklearn.utils import class_weight\n",
        "\n",
        "class_weights = class_weight.compute_class_weight(\n",
        "    class_weight='balanced',\n",
        "    classes=np.unique(training_labels_final),\n",
        "    y=training_labels_final\n",
        ")\n",
        "\n",
        "class_weights = {i: class_weights[i] for i in range(len(class_weights))}\n",
        "print(\"Class weights:\", class_weights)"
      ],
      "metadata": {
        "colab": {
          "base_uri": "https://localhost:8080/"
        },
        "id": "nDnhiAwiciXr",
        "outputId": "d7bfc4b5-3a72-412b-fd28-f818e652e3e3"
      },
      "execution_count": 8,
      "outputs": [
        {
          "output_type": "stream",
          "name": "stdout",
          "text": [
            "sentiment\n",
            "0    503\n",
            "1    498\n",
            "Name: count, dtype: int64\n",
            "Class weights: {0: 1.1594202898550725, 1: 0.8791208791208791}\n"
          ]
        }
      ]
    },
    {
      "cell_type": "code",
      "source": [
        "# Define the model\n",
        "model = tf.keras.Sequential([\n",
        "    tf.keras.layers.Embedding(input_dim=10000, output_dim=16, input_length=max_length),\n",
        "    tf.keras.layers.GlobalAveragePooling1D(),\n",
        "    tf.keras.layers.Dense(24, activation='relu'),\n",
        "    tf.keras.layers.Dense(1, activation='sigmoid')\n",
        "])\n",
        "\n",
        "# Compile the model\n",
        "model.compile(loss='binary_crossentropy', optimizer='adam', metrics=['accuracy'])\n",
        "model.summary()\n"
      ],
      "metadata": {
        "id": "vKWLEiqWhRaO",
        "outputId": "6dfa9f26-ec57-4238-eb0a-8bf73b02b97b",
        "colab": {
          "base_uri": "https://localhost:8080/"
        }
      },
      "execution_count": 9,
      "outputs": [
        {
          "output_type": "stream",
          "name": "stdout",
          "text": [
            "Model: \"sequential\"\n",
            "_________________________________________________________________\n",
            " Layer (type)                Output Shape              Param #   \n",
            "=================================================================\n",
            " embedding (Embedding)       (None, 100, 16)           160000    \n",
            "                                                                 \n",
            " global_average_pooling1d (  (None, 16)                0         \n",
            " GlobalAveragePooling1D)                                         \n",
            "                                                                 \n",
            " dense (Dense)               (None, 24)                408       \n",
            "                                                                 \n",
            " dense_1 (Dense)             (None, 1)                 25        \n",
            "                                                                 \n",
            "=================================================================\n",
            "Total params: 160433 (626.69 KB)\n",
            "Trainable params: 160433 (626.69 KB)\n",
            "Non-trainable params: 0 (0.00 Byte)\n",
            "_________________________________________________________________\n"
          ]
        }
      ]
    },
    {
      "cell_type": "code",
      "source": [
        "# Train the model\n",
        "history = model.fit(training_padded, training_labels_final, epochs=40, validation_data=(testing_padded, testing_labels_final))\n",
        "\n",
        "# Evaluate the model\n",
        "loss, accuracy = model.evaluate(testing_padded, testing_labels_final)\n",
        "print(f\"Test Accuracy: {accuracy}\")"
      ],
      "metadata": {
        "colab": {
          "base_uri": "https://localhost:8080/"
        },
        "id": "LHiMf-54cwQ7",
        "outputId": "810b6677-aedc-43b0-c77d-18b0333096bf"
      },
      "execution_count": 10,
      "outputs": [
        {
          "output_type": "stream",
          "name": "stdout",
          "text": [
            "Epoch 1/40\n",
            "25/25 [==============================] - 11s 360ms/step - loss: 0.6894 - accuracy: 0.5688 - val_loss: 0.7257 - val_accuracy: 0.2139\n",
            "Epoch 2/40\n",
            "25/25 [==============================] - 3s 100ms/step - loss: 0.6839 - accuracy: 0.5688 - val_loss: 0.7473 - val_accuracy: 0.2139\n",
            "Epoch 3/40\n",
            "25/25 [==============================] - 2s 86ms/step - loss: 0.6803 - accuracy: 0.5688 - val_loss: 0.7704 - val_accuracy: 0.2139\n",
            "Epoch 4/40\n",
            "25/25 [==============================] - 2s 93ms/step - loss: 0.6764 - accuracy: 0.5688 - val_loss: 0.7669 - val_accuracy: 0.2139\n",
            "Epoch 5/40\n",
            "25/25 [==============================] - 3s 130ms/step - loss: 0.6685 - accuracy: 0.5713 - val_loss: 0.7682 - val_accuracy: 0.2139\n",
            "Epoch 6/40\n",
            "25/25 [==============================] - 2s 95ms/step - loss: 0.6588 - accuracy: 0.5738 - val_loss: 0.7598 - val_accuracy: 0.2289\n",
            "Epoch 7/40\n",
            "25/25 [==============================] - 1s 53ms/step - loss: 0.6455 - accuracy: 0.6062 - val_loss: 0.7382 - val_accuracy: 0.2587\n",
            "Epoch 8/40\n",
            "25/25 [==============================] - 1s 53ms/step - loss: 0.6273 - accuracy: 0.6413 - val_loss: 0.7243 - val_accuracy: 0.3184\n",
            "Epoch 9/40\n",
            "25/25 [==============================] - 1s 30ms/step - loss: 0.6049 - accuracy: 0.6938 - val_loss: 0.7194 - val_accuracy: 0.3333\n",
            "Epoch 10/40\n",
            "25/25 [==============================] - 1s 25ms/step - loss: 0.5761 - accuracy: 0.7600 - val_loss: 0.6662 - val_accuracy: 0.5224\n",
            "Epoch 11/40\n",
            "25/25 [==============================] - 1s 50ms/step - loss: 0.5435 - accuracy: 0.7850 - val_loss: 0.6356 - val_accuracy: 0.6617\n",
            "Epoch 12/40\n",
            "25/25 [==============================] - 1s 32ms/step - loss: 0.5033 - accuracy: 0.8263 - val_loss: 0.6385 - val_accuracy: 0.5920\n",
            "Epoch 13/40\n",
            "25/25 [==============================] - 1s 50ms/step - loss: 0.4648 - accuracy: 0.8400 - val_loss: 0.5743 - val_accuracy: 0.7910\n",
            "Epoch 14/40\n",
            "25/25 [==============================] - 1s 25ms/step - loss: 0.4274 - accuracy: 0.8925 - val_loss: 0.5758 - val_accuracy: 0.7463\n",
            "Epoch 15/40\n",
            "25/25 [==============================] - 1s 42ms/step - loss: 0.3918 - accuracy: 0.8963 - val_loss: 0.5417 - val_accuracy: 0.8159\n",
            "Epoch 16/40\n",
            "25/25 [==============================] - 0s 16ms/step - loss: 0.3596 - accuracy: 0.8950 - val_loss: 0.4690 - val_accuracy: 0.8607\n",
            "Epoch 17/40\n",
            "25/25 [==============================] - 1s 57ms/step - loss: 0.3356 - accuracy: 0.8988 - val_loss: 0.5388 - val_accuracy: 0.7960\n",
            "Epoch 18/40\n",
            "25/25 [==============================] - 1s 35ms/step - loss: 0.3055 - accuracy: 0.9337 - val_loss: 0.4875 - val_accuracy: 0.8308\n",
            "Epoch 19/40\n",
            "25/25 [==============================] - 1s 24ms/step - loss: 0.2844 - accuracy: 0.9350 - val_loss: 0.4937 - val_accuracy: 0.8458\n",
            "Epoch 20/40\n",
            "25/25 [==============================] - 1s 30ms/step - loss: 0.2642 - accuracy: 0.9350 - val_loss: 0.4591 - val_accuracy: 0.8458\n",
            "Epoch 21/40\n",
            "25/25 [==============================] - 0s 17ms/step - loss: 0.2491 - accuracy: 0.9425 - val_loss: 0.4661 - val_accuracy: 0.8408\n",
            "Epoch 22/40\n",
            "25/25 [==============================] - 0s 17ms/step - loss: 0.2301 - accuracy: 0.9575 - val_loss: 0.5405 - val_accuracy: 0.7910\n",
            "Epoch 23/40\n",
            "25/25 [==============================] - 1s 24ms/step - loss: 0.2189 - accuracy: 0.9513 - val_loss: 0.4855 - val_accuracy: 0.8358\n",
            "Epoch 24/40\n",
            "25/25 [==============================] - 0s 11ms/step - loss: 0.2084 - accuracy: 0.9475 - val_loss: 0.4692 - val_accuracy: 0.8209\n",
            "Epoch 25/40\n",
            "25/25 [==============================] - 0s 18ms/step - loss: 0.1919 - accuracy: 0.9600 - val_loss: 0.4254 - val_accuracy: 0.8607\n",
            "Epoch 26/40\n",
            "25/25 [==============================] - 1s 23ms/step - loss: 0.1840 - accuracy: 0.9663 - val_loss: 0.5093 - val_accuracy: 0.8209\n",
            "Epoch 27/40\n",
            "25/25 [==============================] - 1s 24ms/step - loss: 0.1739 - accuracy: 0.9675 - val_loss: 0.4997 - val_accuracy: 0.8259\n",
            "Epoch 28/40\n",
            "25/25 [==============================] - 0s 17ms/step - loss: 0.1648 - accuracy: 0.9675 - val_loss: 0.5275 - val_accuracy: 0.8209\n",
            "Epoch 29/40\n",
            "25/25 [==============================] - 0s 11ms/step - loss: 0.1582 - accuracy: 0.9663 - val_loss: 0.5189 - val_accuracy: 0.8159\n",
            "Epoch 30/40\n",
            "25/25 [==============================] - 0s 17ms/step - loss: 0.1507 - accuracy: 0.9725 - val_loss: 0.4223 - val_accuracy: 0.8458\n",
            "Epoch 31/40\n",
            "25/25 [==============================] - 0s 11ms/step - loss: 0.1430 - accuracy: 0.9750 - val_loss: 0.5231 - val_accuracy: 0.8159\n",
            "Epoch 32/40\n",
            "25/25 [==============================] - 0s 5ms/step - loss: 0.1403 - accuracy: 0.9688 - val_loss: 0.5887 - val_accuracy: 0.7811\n",
            "Epoch 33/40\n",
            "25/25 [==============================] - 0s 5ms/step - loss: 0.1301 - accuracy: 0.9688 - val_loss: 0.4841 - val_accuracy: 0.8209\n",
            "Epoch 34/40\n",
            "25/25 [==============================] - 0s 5ms/step - loss: 0.1252 - accuracy: 0.9725 - val_loss: 0.4765 - val_accuracy: 0.8259\n",
            "Epoch 35/40\n",
            "25/25 [==============================] - 0s 4ms/step - loss: 0.1192 - accuracy: 0.9750 - val_loss: 0.5242 - val_accuracy: 0.8308\n",
            "Epoch 36/40\n",
            "25/25 [==============================] - 0s 12ms/step - loss: 0.1153 - accuracy: 0.9725 - val_loss: 0.5057 - val_accuracy: 0.8209\n",
            "Epoch 37/40\n",
            "25/25 [==============================] - 0s 11ms/step - loss: 0.1102 - accuracy: 0.9725 - val_loss: 0.5381 - val_accuracy: 0.8109\n",
            "Epoch 38/40\n",
            "25/25 [==============================] - 0s 5ms/step - loss: 0.1063 - accuracy: 0.9725 - val_loss: 0.5417 - val_accuracy: 0.8060\n",
            "Epoch 39/40\n",
            "25/25 [==============================] - 0s 12ms/step - loss: 0.1062 - accuracy: 0.9688 - val_loss: 0.5283 - val_accuracy: 0.8308\n",
            "Epoch 40/40\n",
            "25/25 [==============================] - 0s 11ms/step - loss: 0.0998 - accuracy: 0.9750 - val_loss: 0.5005 - val_accuracy: 0.8408\n",
            "7/7 [==============================] - 0s 3ms/step - loss: 0.5005 - accuracy: 0.8408\n",
            "Test Accuracy: 0.8407959938049316\n"
          ]
        }
      ]
    },
    {
      "cell_type": "markdown",
      "source": [
        "## Get files for visualing the network"
      ],
      "metadata": {
        "id": "CNjOxlmhNNp8"
      }
    },
    {
      "cell_type": "code",
      "source": [
        "# First get the weights of the embedding layer\n",
        "e = model.layers[0]\n",
        "weights = e.get_weights()[0]\n",
        "print(weights.shape) # shape: (vocab_size, embedding_dim)\n",
        "\n",
        "# Create the reverse word index\n",
        "word_index = tokenizer.word_index\n",
        "reverse_word_index = dict([(value, key) for (key, value) in word_index.items()])\n",
        "\n",
        "# Write out the embedding vectors and metadata\n",
        "out_v = io.open('vecs.tsv', 'w', encoding='utf-8')\n",
        "out_m = io.open('meta.tsv', 'w', encoding='utf-8')\n",
        "\n",
        "vocab_size = 10000\n",
        "for word_num in range(1, vocab_size):\n",
        "    word = reverse_word_index.get(word_num, \"<OOV>\")\n",
        "    embeddings = weights[word_num]\n",
        "    out_m.write(word + \"\\n\")\n",
        "    out_v.write('\\t'.join([str(x) for x in embeddings]) + \"\\n\")\n",
        "\n",
        "out_v.close()\n",
        "out_m.close()"
      ],
      "metadata": {
        "id": "BU7AaeHdeXkC",
        "outputId": "b13d1ade-bee3-4ccd-fc2c-0e1277973571",
        "colab": {
          "base_uri": "https://localhost:8080/"
        }
      },
      "execution_count": 11,
      "outputs": [
        {
          "output_type": "stream",
          "name": "stdout",
          "text": [
            "(10000, 16)\n"
          ]
        }
      ]
    },
    {
      "cell_type": "code",
      "source": [
        "# Download the files\n",
        "try:\n",
        "  from google.colab import files\n",
        "except ImportError:\n",
        "  pass\n",
        "else:\n",
        "  files.download('vecs.tsv')\n",
        "  files.download('meta.tsv')"
      ],
      "metadata": {
        "colab": {
          "base_uri": "https://localhost:8080/",
          "height": 17
        },
        "id": "rs-RVTM1k0ij",
        "outputId": "e7dd0813-a9cd-4271-b2df-5b0647a93c11"
      },
      "execution_count": 12,
      "outputs": [
        {
          "output_type": "display_data",
          "data": {
            "text/plain": [
              "<IPython.core.display.Javascript object>"
            ],
            "application/javascript": [
              "\n",
              "    async function download(id, filename, size) {\n",
              "      if (!google.colab.kernel.accessAllowed) {\n",
              "        return;\n",
              "      }\n",
              "      const div = document.createElement('div');\n",
              "      const label = document.createElement('label');\n",
              "      label.textContent = `Downloading \"${filename}\": `;\n",
              "      div.appendChild(label);\n",
              "      const progress = document.createElement('progress');\n",
              "      progress.max = size;\n",
              "      div.appendChild(progress);\n",
              "      document.body.appendChild(div);\n",
              "\n",
              "      const buffers = [];\n",
              "      let downloaded = 0;\n",
              "\n",
              "      const channel = await google.colab.kernel.comms.open(id);\n",
              "      // Send a message to notify the kernel that we're ready.\n",
              "      channel.send({})\n",
              "\n",
              "      for await (const message of channel.messages) {\n",
              "        // Send a message to notify the kernel that we're ready.\n",
              "        channel.send({})\n",
              "        if (message.buffers) {\n",
              "          for (const buffer of message.buffers) {\n",
              "            buffers.push(buffer);\n",
              "            downloaded += buffer.byteLength;\n",
              "            progress.value = downloaded;\n",
              "          }\n",
              "        }\n",
              "      }\n",
              "      const blob = new Blob(buffers, {type: 'application/binary'});\n",
              "      const a = document.createElement('a');\n",
              "      a.href = window.URL.createObjectURL(blob);\n",
              "      a.download = filename;\n",
              "      div.appendChild(a);\n",
              "      a.click();\n",
              "      div.remove();\n",
              "    }\n",
              "  "
            ]
          },
          "metadata": {}
        },
        {
          "output_type": "display_data",
          "data": {
            "text/plain": [
              "<IPython.core.display.Javascript object>"
            ],
            "application/javascript": [
              "download(\"download_27731307-b4d6-424f-bbc5-d23909c0e869\", \"vecs.tsv\", 1934163)"
            ]
          },
          "metadata": {}
        },
        {
          "output_type": "display_data",
          "data": {
            "text/plain": [
              "<IPython.core.display.Javascript object>"
            ],
            "application/javascript": [
              "\n",
              "    async function download(id, filename, size) {\n",
              "      if (!google.colab.kernel.accessAllowed) {\n",
              "        return;\n",
              "      }\n",
              "      const div = document.createElement('div');\n",
              "      const label = document.createElement('label');\n",
              "      label.textContent = `Downloading \"${filename}\": `;\n",
              "      div.appendChild(label);\n",
              "      const progress = document.createElement('progress');\n",
              "      progress.max = size;\n",
              "      div.appendChild(progress);\n",
              "      document.body.appendChild(div);\n",
              "\n",
              "      const buffers = [];\n",
              "      let downloaded = 0;\n",
              "\n",
              "      const channel = await google.colab.kernel.comms.open(id);\n",
              "      // Send a message to notify the kernel that we're ready.\n",
              "      channel.send({})\n",
              "\n",
              "      for await (const message of channel.messages) {\n",
              "        // Send a message to notify the kernel that we're ready.\n",
              "        channel.send({})\n",
              "        if (message.buffers) {\n",
              "          for (const buffer of message.buffers) {\n",
              "            buffers.push(buffer);\n",
              "            downloaded += buffer.byteLength;\n",
              "            progress.value = downloaded;\n",
              "          }\n",
              "        }\n",
              "      }\n",
              "      const blob = new Blob(buffers, {type: 'application/binary'});\n",
              "      const a = document.createElement('a');\n",
              "      a.href = window.URL.createObjectURL(blob);\n",
              "      a.download = filename;\n",
              "      div.appendChild(a);\n",
              "      a.click();\n",
              "      div.remove();\n",
              "    }\n",
              "  "
            ]
          },
          "metadata": {}
        },
        {
          "output_type": "display_data",
          "data": {
            "text/plain": [
              "<IPython.core.display.Javascript object>"
            ],
            "application/javascript": [
              "download(\"download_9d0b5322-21c3-43ab-8fda-e1a22e7c4161\", \"meta.tsv\", 64785)"
            ]
          },
          "metadata": {}
        }
      ]
    },
    {
      "cell_type": "markdown",
      "source": [
        "## 5. Predict sentiment with new reviews"
      ],
      "metadata": {
        "id": "KmGupN3hM-C4"
      }
    },
    {
      "cell_type": "code",
      "source": [
        "# Predict sentiment with new reviews\n",
        "new_reviews = ['ganda ng produkto', 'hindi maganda', 'sulit na sulit',\n",
        "               'sayang pera dito', 'Napakabilis ng delivery, at maganda ang kalidad',\n",
        "               'hindi ako satisfied.',\n",
        "               'Ang saya ko sa pagbili ko nito, highly recommended!',\n",
        "               'Hindi maganda ang quality',\n",
        "               'Napakaganda ng customer service, babalik ako ulit',\n",
        "               'Walang kwenta ang customer service, hindi helpful.',\n",
        "               'Maayos ang pagkakagawa, mukhang matibay.']\n",
        "\n",
        "# Create the sequences\n",
        "sample_sequences = tokenizer.texts_to_sequences(new_reviews)\n",
        "new_padded = pad_sequences(sample_sequences, padding=padding_type, maxlen=max_length)\n",
        "\n",
        "print('\\nHOT OFF THE PRESS! HERE ARE SOME NEWLY MINTED, ABSOLUTELY GENUINE REVIEWS!\\n')\n",
        "\n",
        "# Predict\n",
        "predictions = model.predict(new_padded)\n",
        "\n",
        "# Print the results\n",
        "for i in range(len(new_reviews)):\n",
        "    score = predictions[i][0]\n",
        "    sentiment_label = 'Positive' if score >= 0.5 else 'Negative'\n",
        "    print(f\"Review: {new_reviews[i]}\")\n",
        "    print(f\"Sentiment: {sentiment_label} (Score: {score})\\n\")"
      ],
      "metadata": {
        "id": "5XRdJFDAhQD2",
        "colab": {
          "base_uri": "https://localhost:8080/"
        },
        "outputId": "311a0001-db6a-47df-9c50-f1eca2cfd926"
      },
      "execution_count": 13,
      "outputs": [
        {
          "output_type": "stream",
          "name": "stdout",
          "text": [
            "\n",
            "HOT OFF THE PRESS! HERE ARE SOME NEWLY MINTED, ABSOLUTELY GENUINE REVIEWS!\n",
            "\n",
            "1/1 [==============================] - 0s 77ms/step\n",
            "Review: ganda ng produkto\n",
            "Sentiment: Positive (Score: 0.763824462890625)\n",
            "\n",
            "Review: hindi maganda\n",
            "Sentiment: Negative (Score: 0.4576016962528229)\n",
            "\n",
            "Review: sulit na sulit\n",
            "Sentiment: Positive (Score: 0.8730558753013611)\n",
            "\n",
            "Review: sayang pera dito\n",
            "Sentiment: Negative (Score: 0.20133762061595917)\n",
            "\n",
            "Review: Napakabilis ng delivery, at maganda ang kalidad\n",
            "Sentiment: Positive (Score: 0.8081254363059998)\n",
            "\n",
            "Review: hindi ako satisfied.\n",
            "Sentiment: Negative (Score: 0.4917011260986328)\n",
            "\n",
            "Review: Ang saya ko sa pagbili ko nito, highly recommended!\n",
            "Sentiment: Positive (Score: 0.8201875686645508)\n",
            "\n",
            "Review: Hindi maganda ang quality\n",
            "Sentiment: Negative (Score: 0.42362624406814575)\n",
            "\n",
            "Review: Napakaganda ng customer service, babalik ako ulit\n",
            "Sentiment: Positive (Score: 0.6260116696357727)\n",
            "\n",
            "Review: Walang kwenta ang customer service, hindi helpful.\n",
            "Sentiment: Negative (Score: 0.08579646050930023)\n",
            "\n",
            "Review: Maayos ang pagkakagawa, mukhang matibay.\n",
            "Sentiment: Positive (Score: 0.7654402256011963)\n",
            "\n"
          ]
        }
      ]
    }
  ],
  "metadata": {
    "colab": {
      "provenance": [],
      "gpuType": "T4",
      "include_colab_link": true
    },
    "kernelspec": {
      "display_name": "Python 3",
      "name": "python3"
    },
    "accelerator": "GPU"
  },
  "nbformat": 4,
  "nbformat_minor": 0
}